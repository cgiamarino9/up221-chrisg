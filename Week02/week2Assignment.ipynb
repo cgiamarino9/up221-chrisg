{
 "cells": [
  {
   "cell_type": "markdown",
   "id": "bc96407f-2192-4e1c-9120-0aa0d3df5392",
   "metadata": {},
   "source": [
    "# Assignment 1\n",
    "## Importing data and running descriptive statistics"
   ]
  },
  {
   "cell_type": "code",
   "execution_count": 8,
   "id": "21beac2a-bad6-44ed-871d-2adace279b04",
   "metadata": {},
   "outputs": [],
   "source": [
    "# importing python libraries\n",
    "import pandas as pd\n",
    "import geopandas as pd"
   ]
  },
  {
   "cell_type": "code",
   "execution_count": 15,
   "id": "05f9d53a-1649-4163-aa9d-028252c03643",
   "metadata": {},
   "outputs": [
    {
     "name": "stdout",
     "output_type": "stream",
     "text": [
      "hello world\n"
     ]
    }
   ],
   "source": [
    "print('hello world')"
   ]
  },
  {
   "cell_type": "code",
   "execution_count": 16,
   "id": "780861f4-4cef-4b97-b458-f80a1f4679a3",
   "metadata": {},
   "outputs": [
    {
     "data": {
      "text/plain": [
       "6"
      ]
     },
     "execution_count": 16,
     "metadata": {},
     "output_type": "execute_result"
    }
   ],
   "source": [
    "week1 = 1+5\n",
    "week1"
   ]
  },
  {
   "cell_type": "code",
   "execution_count": 17,
   "id": "31270c49-e5e9-46d0-84a6-62c33f3c33cf",
   "metadata": {},
   "outputs": [
    {
     "name": "stdout",
     "output_type": "stream",
     "text": [
      "45\n"
     ]
    }
   ],
   "source": [
    "x = 5\n",
    "y = 9\n",
    "print(x*y)"
   ]
  },
  {
   "cell_type": "code",
   "execution_count": null,
   "id": "d01e4ef1-a309-42f1-a90d-d1c2487566ad",
   "metadata": {},
   "outputs": [],
   "source": []
  },
  {
   "cell_type": "code",
   "execution_count": null,
   "id": "16f5f561-801f-444b-9a30-b95f3b0d92d2",
   "metadata": {},
   "outputs": [],
   "source": []
  }
 ],
 "metadata": {
  "kernelspec": {
   "display_name": "Python 3 (ipykernel)",
   "language": "python",
   "name": "python3"
  },
  "language_info": {
   "codemirror_mode": {
    "name": "ipython",
    "version": 3
   },
   "file_extension": ".py",
   "mimetype": "text/x-python",
   "name": "python",
   "nbconvert_exporter": "python",
   "pygments_lexer": "ipython3",
   "version": "3.11.7"
  }
 },
 "nbformat": 4,
 "nbformat_minor": 5
}
